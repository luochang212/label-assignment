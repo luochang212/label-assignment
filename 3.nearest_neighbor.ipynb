{
 "cells": [
  {
   "cell_type": "markdown",
   "id": "f874154a-8eac-4762-971f-a807dde247eb",
   "metadata": {},
   "source": [
    "# 使用最近邻方法更新聚类 ID\n",
    "\n",
    "**1）更新原理**\n",
    "\n",
    "给定邻域 `eps`，若新加入 embedding 在某个簇的聚类中心的 `eps` 邻域范围内，则归入该簇；否则该 embedding 单独建簇。\n",
    "\n",
    "**2）更新步骤**\n",
    "\n",
    "初始化：\n",
    "\n",
    "1. 用 dbscan 计算每个 embedding 样本的簇 ID\n",
    "2. 对于 dbscan，当样本的簇 ID 为 -1 时，说明该样本为离群点。这时赋给该样本一个与现\n",
    "3. 当样本的簇 ID 为 -1 时，为该样本生成一个与现有簇 ID 不重复的数，作为该样本的簇 ID\n",
    "4. 计算每个簇的聚类中心\n",
    "5. 创建两个 DataFrame底表（回溯数据用，不参与后续更新）：列名为 embedding, dbscan_id, cluster_id, cluster_center\n",
    "    - 聚类 ID 表：列名为 embedding, cluster_id\n",
    "    - 聚类中心表：列名为 cluster_id, cluster_center\n",
    "\n",
    "更新：\n",
    "\n",
    "1. 当有新 embedding 进入时，计算该 embedding 是否在任一聚类中心的 eps 邻域内\n",
    "    - 如果在，让 embedding 加入该簇，并更新该簇的聚类中心\n",
    "    - 如果不在，创建一个新簇，该 embedding 自己作为聚类中心\n",
    "2. 更新两个 DataFrame 表\n"
   ]
  },
  {
   "cell_type": "code",
   "execution_count": 1,
   "id": "d9ab2369-d226-4d7c-aa7b-ffb568b923c8",
   "metadata": {
    "execution": {
     "iopub.execute_input": "2025-04-18T15:17:12.562058Z",
     "iopub.status.busy": "2025-04-18T15:17:12.561875Z",
     "iopub.status.idle": "2025-04-18T15:17:14.040083Z",
     "shell.execute_reply": "2025-04-18T15:17:14.039587Z",
     "shell.execute_reply.started": "2025-04-18T15:17:12.562041Z"
    }
   },
   "outputs": [],
   "source": [
    "import os\n",
    "import collections\n",
    "import numpy as np\n",
    "import pandas as pd\n",
    "import matplotlib.pyplot as plt\n",
    "\n",
    "import utils\n",
    "\n",
    "from typing import Dict, Set, Tuple, List\n",
    "from sklearn.cluster import DBSCAN\n",
    "from sklearn.metrics.pairwise import cosine_distances\n",
    "\n",
    "CSV_PATH = './data'\n",
    "SAMPLE_NUM = 7000\n",
    "\n",
    "os.environ[\"LOKY_MAX_CPU_COUNT\"] = \"4\"\n",
    "\n",
    "if utils.in_jupyter():\n",
    "    # 在 Jupyter 时 tqdm 的导入方式\n",
    "    from tqdm.notebook import tqdm\n",
    "else:\n",
    "    # 在终端时 tqdm 的导入方式\n",
    "    from tqdm import tqdm"
   ]
  },
  {
   "cell_type": "code",
   "execution_count": 2,
   "id": "ea040563-5e18-4546-b261-77abbaadf460",
   "metadata": {
    "execution": {
     "iopub.execute_input": "2025-04-18T15:17:14.040997Z",
     "iopub.status.busy": "2025-04-18T15:17:14.040527Z",
     "iopub.status.idle": "2025-04-18T15:17:43.641516Z",
     "shell.execute_reply": "2025-04-18T15:17:43.640954Z",
     "shell.execute_reply.started": "2025-04-18T15:17:14.040980Z"
    }
   },
   "outputs": [
    {
     "data": {
      "text/plain": [
       "(10000, 100)"
      ]
     },
     "execution_count": 2,
     "metadata": {},
     "output_type": "execute_result"
    }
   ],
   "source": [
    "# 将 csv 读入 DataFrame\n",
    "train_csv_path = os.path.join(CSV_PATH, 'embed_label.csv')\n",
    "df = utils.read_embedding_csv(csv_path=train_csv_path,\n",
    "                              ebd_cols=['embeddings'])\n",
    "len(df), len(set(df['labels'].tolist()))"
   ]
  },
  {
   "cell_type": "code",
   "execution_count": 3,
   "id": "a613ddd3-1ede-4fae-9bbe-2bfe83e51c80",
   "metadata": {
    "execution": {
     "iopub.execute_input": "2025-04-18T15:17:43.642763Z",
     "iopub.status.busy": "2025-04-18T15:17:43.642425Z",
     "iopub.status.idle": "2025-04-18T15:17:43.646346Z",
     "shell.execute_reply": "2025-04-18T15:17:43.645738Z",
     "shell.execute_reply.started": "2025-04-18T15:17:43.642748Z"
    }
   },
   "outputs": [],
   "source": [
    "df = df.drop(columns=['labels'])"
   ]
  },
  {
   "cell_type": "markdown",
   "id": "b8b891fa-c7b1-41c0-afc0-98bec713bc59",
   "metadata": {
    "execution": {
     "iopub.execute_input": "2025-04-18T10:13:03.510918Z",
     "iopub.status.busy": "2025-04-18T10:13:03.510470Z",
     "iopub.status.idle": "2025-04-18T10:13:03.527031Z",
     "shell.execute_reply": "2025-04-18T10:13:03.525159Z",
     "shell.execute_reply.started": "2025-04-18T10:13:03.510888Z"
    }
   },
   "source": [
    "手动添加一列 `item_id` 作为每个 embedding 的唯一标识。"
   ]
  },
  {
   "cell_type": "code",
   "execution_count": 4,
   "id": "f8131478-9edb-4711-899a-e65e14be34c1",
   "metadata": {
    "execution": {
     "iopub.execute_input": "2025-04-18T15:17:43.646904Z",
     "iopub.status.busy": "2025-04-18T15:17:43.646783Z",
     "iopub.status.idle": "2025-04-18T15:17:43.659208Z",
     "shell.execute_reply": "2025-04-18T15:17:43.658735Z",
     "shell.execute_reply.started": "2025-04-18T15:17:43.646895Z"
    }
   },
   "outputs": [
    {
     "data": {
      "text/html": [
       "<div>\n",
       "<style scoped>\n",
       "    .dataframe tbody tr th:only-of-type {\n",
       "        vertical-align: middle;\n",
       "    }\n",
       "\n",
       "    .dataframe tbody tr th {\n",
       "        vertical-align: top;\n",
       "    }\n",
       "\n",
       "    .dataframe thead th {\n",
       "        text-align: right;\n",
       "    }\n",
       "</style>\n",
       "<table border=\"1\" class=\"dataframe\">\n",
       "  <thead>\n",
       "    <tr style=\"text-align: right;\">\n",
       "      <th></th>\n",
       "      <th>item_id</th>\n",
       "      <th>embeddings</th>\n",
       "    </tr>\n",
       "  </thead>\n",
       "  <tbody>\n",
       "    <tr>\n",
       "      <th>0</th>\n",
       "      <td>0</td>\n",
       "      <td>[0.024523582309484482, -0.03633105754852295, 0...</td>\n",
       "    </tr>\n",
       "    <tr>\n",
       "      <th>1</th>\n",
       "      <td>1</td>\n",
       "      <td>[-0.002521098591387272, 0.022899063304066658, ...</td>\n",
       "    </tr>\n",
       "    <tr>\n",
       "      <th>2</th>\n",
       "      <td>2</td>\n",
       "      <td>[0.008400454185903072, -0.012612388469278812, ...</td>\n",
       "    </tr>\n",
       "    <tr>\n",
       "      <th>3</th>\n",
       "      <td>3</td>\n",
       "      <td>[-0.004734962247312069, -0.0035224033053964376...</td>\n",
       "    </tr>\n",
       "    <tr>\n",
       "      <th>4</th>\n",
       "      <td>4</td>\n",
       "      <td>[-0.021240245550870895, -0.03918471559882164, ...</td>\n",
       "    </tr>\n",
       "    <tr>\n",
       "      <th>...</th>\n",
       "      <td>...</td>\n",
       "      <td>...</td>\n",
       "    </tr>\n",
       "    <tr>\n",
       "      <th>9995</th>\n",
       "      <td>9995</td>\n",
       "      <td>[0.02526906132698059, 0.006334671750664711, 0....</td>\n",
       "    </tr>\n",
       "    <tr>\n",
       "      <th>9996</th>\n",
       "      <td>9996</td>\n",
       "      <td>[-0.0032427890691906214, 0.0032633657101541758...</td>\n",
       "    </tr>\n",
       "    <tr>\n",
       "      <th>9997</th>\n",
       "      <td>9997</td>\n",
       "      <td>[0.001930834841914475, -0.025012478232383728, ...</td>\n",
       "    </tr>\n",
       "    <tr>\n",
       "      <th>9998</th>\n",
       "      <td>9998</td>\n",
       "      <td>[0.025050941854715347, -0.017404677346348763, ...</td>\n",
       "    </tr>\n",
       "    <tr>\n",
       "      <th>9999</th>\n",
       "      <td>9999</td>\n",
       "      <td>[0.03423108905553818, 0.010332481935620308, -0...</td>\n",
       "    </tr>\n",
       "  </tbody>\n",
       "</table>\n",
       "<p>10000 rows × 2 columns</p>\n",
       "</div>"
      ],
      "text/plain": [
       "      item_id                                         embeddings\n",
       "0           0  [0.024523582309484482, -0.03633105754852295, 0...\n",
       "1           1  [-0.002521098591387272, 0.022899063304066658, ...\n",
       "2           2  [0.008400454185903072, -0.012612388469278812, ...\n",
       "3           3  [-0.004734962247312069, -0.0035224033053964376...\n",
       "4           4  [-0.021240245550870895, -0.03918471559882164, ...\n",
       "...       ...                                                ...\n",
       "9995     9995  [0.02526906132698059, 0.006334671750664711, 0....\n",
       "9996     9996  [-0.0032427890691906214, 0.0032633657101541758...\n",
       "9997     9997  [0.001930834841914475, -0.025012478232383728, ...\n",
       "9998     9998  [0.025050941854715347, -0.017404677346348763, ...\n",
       "9999     9999  [0.03423108905553818, 0.010332481935620308, -0...\n",
       "\n",
       "[10000 rows x 2 columns]"
      ]
     },
     "execution_count": 4,
     "metadata": {},
     "output_type": "execute_result"
    }
   ],
   "source": [
    "df['item_id'] = [i for i in range(len(df))]\n",
    "df = df[['item_id', 'embeddings']]\n",
    "df"
   ]
  },
  {
   "cell_type": "markdown",
   "id": "a71498aa-53c2-4d95-a9cf-184fca9eac9a",
   "metadata": {},
   "source": [
    "## 一、初始化"
   ]
  },
  {
   "cell_type": "code",
   "execution_count": 5,
   "id": "ae47c9e4-3baf-4241-a22a-73fc13e207b2",
   "metadata": {
    "execution": {
     "iopub.execute_input": "2025-04-18T15:17:43.659841Z",
     "iopub.status.busy": "2025-04-18T15:17:43.659640Z",
     "iopub.status.idle": "2025-04-18T15:17:43.662710Z",
     "shell.execute_reply": "2025-04-18T15:17:43.662295Z",
     "shell.execute_reply.started": "2025-04-18T15:17:43.659832Z"
    }
   },
   "outputs": [
    {
     "data": {
      "text/plain": [
       "(1408,)"
      ]
     },
     "execution_count": 5,
     "metadata": {},
     "output_type": "execute_result"
    }
   ],
   "source": [
    "df['embeddings'][0].shape"
   ]
  },
  {
   "cell_type": "code",
   "execution_count": 6,
   "id": "42acf16b-115f-41e2-9d0e-ed797e6104ba",
   "metadata": {
    "execution": {
     "iopub.execute_input": "2025-04-18T15:17:43.663279Z",
     "iopub.status.busy": "2025-04-18T15:17:43.663100Z",
     "iopub.status.idle": "2025-04-18T15:17:44.359664Z",
     "shell.execute_reply": "2025-04-18T15:17:44.358987Z",
     "shell.execute_reply.started": "2025-04-18T15:17:43.663266Z"
    }
   },
   "outputs": [],
   "source": [
    "train_df = df.head(SAMPLE_NUM).copy()\n",
    "\n",
    "eps=0.1\n",
    "clustering = DBSCAN(eps=eps, min_samples=3, metric='cosine').fit(train_df['embeddings'].tolist())\n",
    "labels = clustering.labels_"
   ]
  },
  {
   "cell_type": "code",
   "execution_count": 7,
   "id": "bc663867-f349-44a6-8ed6-b4f0437239e9",
   "metadata": {
    "execution": {
     "iopub.execute_input": "2025-04-18T15:17:44.360833Z",
     "iopub.status.busy": "2025-04-18T15:17:44.360347Z",
     "iopub.status.idle": "2025-04-18T15:17:44.365066Z",
     "shell.execute_reply": "2025-04-18T15:17:44.364325Z",
     "shell.execute_reply.started": "2025-04-18T15:17:44.360819Z"
    }
   },
   "outputs": [
    {
     "data": {
      "text/plain": [
       "(7000, 147, 1993)"
      ]
     },
     "execution_count": 7,
     "metadata": {},
     "output_type": "execute_result"
    }
   ],
   "source": [
    "len(labels), max(labels), len([1 for e in labels if e != -1])"
   ]
  },
  {
   "cell_type": "code",
   "execution_count": 8,
   "id": "49ce6cd8-4968-405a-a1c1-9496778e5a40",
   "metadata": {
    "execution": {
     "iopub.execute_input": "2025-04-18T15:17:44.365980Z",
     "iopub.status.busy": "2025-04-18T15:17:44.365823Z",
     "iopub.status.idle": "2025-04-18T15:17:44.372790Z",
     "shell.execute_reply": "2025-04-18T15:17:44.372193Z",
     "shell.execute_reply.started": "2025-04-18T15:17:44.365955Z"
    }
   },
   "outputs": [
    {
     "data": {
      "text/plain": [
       "[(-1, 5007), (10, 117), (17, 72), (8, 67), (6, 64)]"
      ]
     },
     "execution_count": 8,
     "metadata": {},
     "output_type": "execute_result"
    }
   ],
   "source": [
    "labels_counter = collections.Counter(labels)\n",
    "sorted_labels = sorted(labels_counter.items(), key=lambda e: e[1], reverse=True)\n",
    "sorted_labels[:5]"
   ]
  },
  {
   "cell_type": "code",
   "execution_count": 9,
   "id": "c2023c1a-34a4-4b9f-8faa-0ca9e20f8bc6",
   "metadata": {
    "execution": {
     "iopub.execute_input": "2025-04-18T15:17:44.373622Z",
     "iopub.status.busy": "2025-04-18T15:17:44.373477Z",
     "iopub.status.idle": "2025-04-18T15:17:44.383682Z",
     "shell.execute_reply": "2025-04-18T15:17:44.383073Z",
     "shell.execute_reply.started": "2025-04-18T15:17:44.373611Z"
    }
   },
   "outputs": [
    {
     "data": {
      "text/html": [
       "<div>\n",
       "<style scoped>\n",
       "    .dataframe tbody tr th:only-of-type {\n",
       "        vertical-align: middle;\n",
       "    }\n",
       "\n",
       "    .dataframe tbody tr th {\n",
       "        vertical-align: top;\n",
       "    }\n",
       "\n",
       "    .dataframe thead th {\n",
       "        text-align: right;\n",
       "    }\n",
       "</style>\n",
       "<table border=\"1\" class=\"dataframe\">\n",
       "  <thead>\n",
       "    <tr style=\"text-align: right;\">\n",
       "      <th></th>\n",
       "      <th>item_id</th>\n",
       "      <th>embeddings</th>\n",
       "      <th>dbscan_id</th>\n",
       "    </tr>\n",
       "  </thead>\n",
       "  <tbody>\n",
       "    <tr>\n",
       "      <th>0</th>\n",
       "      <td>0</td>\n",
       "      <td>[0.024523582309484482, -0.03633105754852295, 0...</td>\n",
       "      <td>-1</td>\n",
       "    </tr>\n",
       "    <tr>\n",
       "      <th>1</th>\n",
       "      <td>1</td>\n",
       "      <td>[-0.002521098591387272, 0.022899063304066658, ...</td>\n",
       "      <td>0</td>\n",
       "    </tr>\n",
       "    <tr>\n",
       "      <th>2</th>\n",
       "      <td>2</td>\n",
       "      <td>[0.008400454185903072, -0.012612388469278812, ...</td>\n",
       "      <td>-1</td>\n",
       "    </tr>\n",
       "    <tr>\n",
       "      <th>3</th>\n",
       "      <td>3</td>\n",
       "      <td>[-0.004734962247312069, -0.0035224033053964376...</td>\n",
       "      <td>-1</td>\n",
       "    </tr>\n",
       "    <tr>\n",
       "      <th>4</th>\n",
       "      <td>4</td>\n",
       "      <td>[-0.021240245550870895, -0.03918471559882164, ...</td>\n",
       "      <td>1</td>\n",
       "    </tr>\n",
       "    <tr>\n",
       "      <th>...</th>\n",
       "      <td>...</td>\n",
       "      <td>...</td>\n",
       "      <td>...</td>\n",
       "    </tr>\n",
       "    <tr>\n",
       "      <th>6995</th>\n",
       "      <td>6995</td>\n",
       "      <td>[0.013036987744271755, 0.004907825030386448, 0...</td>\n",
       "      <td>5</td>\n",
       "    </tr>\n",
       "    <tr>\n",
       "      <th>6996</th>\n",
       "      <td>6996</td>\n",
       "      <td>[0.006075031124055386, 0.06972860544919968, 0....</td>\n",
       "      <td>-1</td>\n",
       "    </tr>\n",
       "    <tr>\n",
       "      <th>6997</th>\n",
       "      <td>6997</td>\n",
       "      <td>[-0.0033710638526827097, 0.03442999720573425, ...</td>\n",
       "      <td>-1</td>\n",
       "    </tr>\n",
       "    <tr>\n",
       "      <th>6998</th>\n",
       "      <td>6998</td>\n",
       "      <td>[-0.02391742914915085, 0.04698537290096283, 0....</td>\n",
       "      <td>100</td>\n",
       "    </tr>\n",
       "    <tr>\n",
       "      <th>6999</th>\n",
       "      <td>6999</td>\n",
       "      <td>[-0.00621715746819973, 0.024464603513479233, 0...</td>\n",
       "      <td>94</td>\n",
       "    </tr>\n",
       "  </tbody>\n",
       "</table>\n",
       "<p>7000 rows × 3 columns</p>\n",
       "</div>"
      ],
      "text/plain": [
       "      item_id                                         embeddings  dbscan_id\n",
       "0           0  [0.024523582309484482, -0.03633105754852295, 0...         -1\n",
       "1           1  [-0.002521098591387272, 0.022899063304066658, ...          0\n",
       "2           2  [0.008400454185903072, -0.012612388469278812, ...         -1\n",
       "3           3  [-0.004734962247312069, -0.0035224033053964376...         -1\n",
       "4           4  [-0.021240245550870895, -0.03918471559882164, ...          1\n",
       "...       ...                                                ...        ...\n",
       "6995     6995  [0.013036987744271755, 0.004907825030386448, 0...          5\n",
       "6996     6996  [0.006075031124055386, 0.06972860544919968, 0....         -1\n",
       "6997     6997  [-0.0033710638526827097, 0.03442999720573425, ...         -1\n",
       "6998     6998  [-0.02391742914915085, 0.04698537290096283, 0....        100\n",
       "6999     6999  [-0.00621715746819973, 0.024464603513479233, 0...         94\n",
       "\n",
       "[7000 rows x 3 columns]"
      ]
     },
     "execution_count": 9,
     "metadata": {},
     "output_type": "execute_result"
    }
   ],
   "source": [
    "# 把 labels 作为 dbscan_id 写入 DataFrame 中\n",
    "train_df['dbscan_id'] = labels\n",
    "train_df"
   ]
  },
  {
   "cell_type": "code",
   "execution_count": 10,
   "id": "4a18d478-4d9a-44fe-8928-7fbc0b3af115",
   "metadata": {
    "execution": {
     "iopub.execute_input": "2025-04-18T15:17:44.384615Z",
     "iopub.status.busy": "2025-04-18T15:17:44.384384Z",
     "iopub.status.idle": "2025-04-18T15:17:44.395306Z",
     "shell.execute_reply": "2025-04-18T15:17:44.394711Z",
     "shell.execute_reply.started": "2025-04-18T15:17:44.384597Z"
    }
   },
   "outputs": [
    {
     "data": {
      "text/html": [
       "<div>\n",
       "<style scoped>\n",
       "    .dataframe tbody tr th:only-of-type {\n",
       "        vertical-align: middle;\n",
       "    }\n",
       "\n",
       "    .dataframe tbody tr th {\n",
       "        vertical-align: top;\n",
       "    }\n",
       "\n",
       "    .dataframe thead th {\n",
       "        text-align: right;\n",
       "    }\n",
       "</style>\n",
       "<table border=\"1\" class=\"dataframe\">\n",
       "  <thead>\n",
       "    <tr style=\"text-align: right;\">\n",
       "      <th></th>\n",
       "      <th>item_id</th>\n",
       "      <th>embeddings</th>\n",
       "      <th>dbscan_id</th>\n",
       "      <th>cluster_id</th>\n",
       "    </tr>\n",
       "  </thead>\n",
       "  <tbody>\n",
       "    <tr>\n",
       "      <th>0</th>\n",
       "      <td>0</td>\n",
       "      <td>[0.024523582309484482, -0.03633105754852295, 0...</td>\n",
       "      <td>-1</td>\n",
       "      <td>148</td>\n",
       "    </tr>\n",
       "    <tr>\n",
       "      <th>1</th>\n",
       "      <td>1</td>\n",
       "      <td>[-0.002521098591387272, 0.022899063304066658, ...</td>\n",
       "      <td>0</td>\n",
       "      <td>0</td>\n",
       "    </tr>\n",
       "    <tr>\n",
       "      <th>2</th>\n",
       "      <td>2</td>\n",
       "      <td>[0.008400454185903072, -0.012612388469278812, ...</td>\n",
       "      <td>-1</td>\n",
       "      <td>149</td>\n",
       "    </tr>\n",
       "    <tr>\n",
       "      <th>3</th>\n",
       "      <td>3</td>\n",
       "      <td>[-0.004734962247312069, -0.0035224033053964376...</td>\n",
       "      <td>-1</td>\n",
       "      <td>150</td>\n",
       "    </tr>\n",
       "    <tr>\n",
       "      <th>4</th>\n",
       "      <td>4</td>\n",
       "      <td>[-0.021240245550870895, -0.03918471559882164, ...</td>\n",
       "      <td>1</td>\n",
       "      <td>1</td>\n",
       "    </tr>\n",
       "  </tbody>\n",
       "</table>\n",
       "</div>"
      ],
      "text/plain": [
       "   item_id                                         embeddings  dbscan_id  \\\n",
       "0        0  [0.024523582309484482, -0.03633105754852295, 0...         -1   \n",
       "1        1  [-0.002521098591387272, 0.022899063304066658, ...          0   \n",
       "2        2  [0.008400454185903072, -0.012612388469278812, ...         -1   \n",
       "3        3  [-0.004734962247312069, -0.0035224033053964376...         -1   \n",
       "4        4  [-0.021240245550870895, -0.03918471559882164, ...          1   \n",
       "\n",
       "   cluster_id  \n",
       "0         148  \n",
       "1           0  \n",
       "2         149  \n",
       "3         150  \n",
       "4           1  "
      ]
     },
     "execution_count": 10,
     "metadata": {},
     "output_type": "execute_result"
    }
   ],
   "source": [
    "# 新增一个列 cluster_id，为值为 -1 的类赋予 label\n",
    "\n",
    "def id_generator(used_id_set: Set[int]):\n",
    "    \"\"\"生成未被使用的最小ID\"\"\"\n",
    "    i = 0\n",
    "    while True:\n",
    "        while i in used_id_set:\n",
    "            i += 1\n",
    "        yield i\n",
    "        i += 1\n",
    "\n",
    "dbscan_ids = train_df['dbscan_id'].tolist()\n",
    "gen = id_generator(set(dbscan_ids))\n",
    "\n",
    "cluster_id = list()\n",
    "for e in train_df['dbscan_id'].tolist():\n",
    "    if e == -1:\n",
    "        cluster_id.append(next(gen))\n",
    "    else:\n",
    "        cluster_id.append(e)\n",
    "\n",
    "train_df['cluster_id'] = cluster_id\n",
    "train_df.head(5)"
   ]
  },
  {
   "cell_type": "code",
   "execution_count": 11,
   "id": "04b4b543-68b5-4174-b545-cf3fb7c2e03f",
   "metadata": {
    "execution": {
     "iopub.execute_input": "2025-04-18T15:17:44.396341Z",
     "iopub.status.busy": "2025-04-18T15:17:44.395872Z",
     "iopub.status.idle": "2025-04-18T15:17:45.217987Z",
     "shell.execute_reply": "2025-04-18T15:17:45.217474Z",
     "shell.execute_reply.started": "2025-04-18T15:17:44.396325Z"
    }
   },
   "outputs": [
    {
     "data": {
      "text/html": [
       "<div>\n",
       "<style scoped>\n",
       "    .dataframe tbody tr th:only-of-type {\n",
       "        vertical-align: middle;\n",
       "    }\n",
       "\n",
       "    .dataframe tbody tr th {\n",
       "        vertical-align: top;\n",
       "    }\n",
       "\n",
       "    .dataframe thead th {\n",
       "        text-align: right;\n",
       "    }\n",
       "</style>\n",
       "<table border=\"1\" class=\"dataframe\">\n",
       "  <thead>\n",
       "    <tr style=\"text-align: right;\">\n",
       "      <th></th>\n",
       "      <th>item_id</th>\n",
       "      <th>embeddings</th>\n",
       "      <th>dbscan_id</th>\n",
       "      <th>cluster_id</th>\n",
       "      <th>cluster_center</th>\n",
       "    </tr>\n",
       "  </thead>\n",
       "  <tbody>\n",
       "    <tr>\n",
       "      <th>0</th>\n",
       "      <td>0</td>\n",
       "      <td>[0.024523582309484482, -0.03633105754852295, 0...</td>\n",
       "      <td>-1</td>\n",
       "      <td>148</td>\n",
       "      <td>[0.024523582309484482, -0.03633105754852295, 0...</td>\n",
       "    </tr>\n",
       "    <tr>\n",
       "      <th>1</th>\n",
       "      <td>1</td>\n",
       "      <td>[-0.002521098591387272, 0.022899063304066658, ...</td>\n",
       "      <td>0</td>\n",
       "      <td>0</td>\n",
       "      <td>[-0.00018301361706107855, 0.022485706851714186...</td>\n",
       "    </tr>\n",
       "    <tr>\n",
       "      <th>2</th>\n",
       "      <td>2</td>\n",
       "      <td>[0.008400454185903072, -0.012612388469278812, ...</td>\n",
       "      <td>-1</td>\n",
       "      <td>149</td>\n",
       "      <td>[0.008400454185903072, -0.012612388469278812, ...</td>\n",
       "    </tr>\n",
       "    <tr>\n",
       "      <th>3</th>\n",
       "      <td>3</td>\n",
       "      <td>[-0.004734962247312069, -0.0035224033053964376...</td>\n",
       "      <td>-1</td>\n",
       "      <td>150</td>\n",
       "      <td>[-0.004734962247312069, -0.0035224033053964376...</td>\n",
       "    </tr>\n",
       "    <tr>\n",
       "      <th>4</th>\n",
       "      <td>4</td>\n",
       "      <td>[-0.021240245550870895, -0.03918471559882164, ...</td>\n",
       "      <td>1</td>\n",
       "      <td>1</td>\n",
       "      <td>[-0.006647970941932206, -0.02852569787230875, ...</td>\n",
       "    </tr>\n",
       "  </tbody>\n",
       "</table>\n",
       "</div>"
      ],
      "text/plain": [
       "   item_id                                         embeddings  dbscan_id  \\\n",
       "0        0  [0.024523582309484482, -0.03633105754852295, 0...         -1   \n",
       "1        1  [-0.002521098591387272, 0.022899063304066658, ...          0   \n",
       "2        2  [0.008400454185903072, -0.012612388469278812, ...         -1   \n",
       "3        3  [-0.004734962247312069, -0.0035224033053964376...         -1   \n",
       "4        4  [-0.021240245550870895, -0.03918471559882164, ...          1   \n",
       "\n",
       "   cluster_id                                     cluster_center  \n",
       "0         148  [0.024523582309484482, -0.03633105754852295, 0...  \n",
       "1           0  [-0.00018301361706107855, 0.022485706851714186...  \n",
       "2         149  [0.008400454185903072, -0.012612388469278812, ...  \n",
       "3         150  [-0.004734962247312069, -0.0035224033053964376...  \n",
       "4           1  [-0.006647970941932206, -0.02852569787230875, ...  "
      ]
     },
     "execution_count": 11,
     "metadata": {},
     "output_type": "execute_result"
    }
   ],
   "source": [
    "# 为每个 cluster_id 计算聚类中心\n",
    "cluster_centers = list()\n",
    "clstrid2center = dict()  # 字典，用于缓存 聚类 id -> 聚类中心\n",
    "for e in train_df['cluster_id'].tolist():\n",
    "    if e in clstrid2center.keys():\n",
    "        # 从字典中读取\n",
    "        cluster_center = clstrid2center[e]\n",
    "    else:\n",
    "        embeds = train_df[train_df[\"cluster_id\"] == e][\"embeddings\"]\n",
    "        cluster_center = np.mean(embeds, axis=0).tolist()\n",
    "        clstrid2center[e] = cluster_center  # 存入字典\n",
    "\n",
    "    cluster_centers.append(cluster_center)\n",
    "\n",
    "train_df['cluster_center'] = cluster_centers\n",
    "train_df.head(5)"
   ]
  },
  {
   "cell_type": "markdown",
   "id": "12b35021-f738-4ae3-ba5e-6c99b416e58e",
   "metadata": {},
   "source": [
    "在进行更新前，我们把底表拆成两张表。\n",
    "\n",
    "- **聚类 ID 表**：`item_id`, `embedding` -> `cluster_id`\n",
    "- **聚类中心表**：`cluster_id`  -> `cluster_center`"
   ]
  },
  {
   "cell_type": "code",
   "execution_count": 12,
   "id": "dfccce95-057f-4faf-a276-9468e31389c7",
   "metadata": {
    "execution": {
     "iopub.execute_input": "2025-04-18T15:17:45.219279Z",
     "iopub.status.busy": "2025-04-18T15:17:45.219131Z",
     "iopub.status.idle": "2025-04-18T15:17:45.225936Z",
     "shell.execute_reply": "2025-04-18T15:17:45.225251Z",
     "shell.execute_reply.started": "2025-04-18T15:17:45.219269Z"
    }
   },
   "outputs": [
    {
     "data": {
      "text/plain": [
       "7000"
      ]
     },
     "execution_count": 12,
     "metadata": {},
     "output_type": "execute_result"
    }
   ],
   "source": [
    "# 创建聚类 ID 表\n",
    "cluster_id_df = train_df[['item_id', 'embeddings', 'cluster_id']]\n",
    "\n",
    "duplicate_mask = cluster_id_df.duplicated(subset=['item_id'], keep=False)\n",
    "if duplicate_mask.any():\n",
    "    duplicate_ids = df.loc[duplicate_mask, 'item_id'].unique().tolist()\n",
    "    raise ValueError( f\"重复行数: {duplicate_mask.sum()}\")\n",
    "\n",
    "len(cluster_id_df)"
   ]
  },
  {
   "cell_type": "code",
   "execution_count": 13,
   "id": "8a2c9c89-0593-4959-b7d8-191d261867bb",
   "metadata": {
    "execution": {
     "iopub.execute_input": "2025-04-18T15:17:45.227173Z",
     "iopub.status.busy": "2025-04-18T15:17:45.226730Z",
     "iopub.status.idle": "2025-04-18T15:17:45.235920Z",
     "shell.execute_reply": "2025-04-18T15:17:45.235297Z",
     "shell.execute_reply.started": "2025-04-18T15:17:45.227155Z"
    }
   },
   "outputs": [
    {
     "data": {
      "text/html": [
       "<div>\n",
       "<style scoped>\n",
       "    .dataframe tbody tr th:only-of-type {\n",
       "        vertical-align: middle;\n",
       "    }\n",
       "\n",
       "    .dataframe tbody tr th {\n",
       "        vertical-align: top;\n",
       "    }\n",
       "\n",
       "    .dataframe thead th {\n",
       "        text-align: right;\n",
       "    }\n",
       "</style>\n",
       "<table border=\"1\" class=\"dataframe\">\n",
       "  <thead>\n",
       "    <tr style=\"text-align: right;\">\n",
       "      <th></th>\n",
       "      <th>item_id</th>\n",
       "      <th>embeddings</th>\n",
       "      <th>cluster_id</th>\n",
       "    </tr>\n",
       "  </thead>\n",
       "  <tbody>\n",
       "    <tr>\n",
       "      <th>0</th>\n",
       "      <td>0</td>\n",
       "      <td>[0.024523582309484482, -0.03633105754852295, 0...</td>\n",
       "      <td>148</td>\n",
       "    </tr>\n",
       "    <tr>\n",
       "      <th>1</th>\n",
       "      <td>1</td>\n",
       "      <td>[-0.002521098591387272, 0.022899063304066658, ...</td>\n",
       "      <td>0</td>\n",
       "    </tr>\n",
       "    <tr>\n",
       "      <th>2</th>\n",
       "      <td>2</td>\n",
       "      <td>[0.008400454185903072, -0.012612388469278812, ...</td>\n",
       "      <td>149</td>\n",
       "    </tr>\n",
       "    <tr>\n",
       "      <th>3</th>\n",
       "      <td>3</td>\n",
       "      <td>[-0.004734962247312069, -0.0035224033053964376...</td>\n",
       "      <td>150</td>\n",
       "    </tr>\n",
       "    <tr>\n",
       "      <th>4</th>\n",
       "      <td>4</td>\n",
       "      <td>[-0.021240245550870895, -0.03918471559882164, ...</td>\n",
       "      <td>1</td>\n",
       "    </tr>\n",
       "  </tbody>\n",
       "</table>\n",
       "</div>"
      ],
      "text/plain": [
       "   item_id                                         embeddings  cluster_id\n",
       "0        0  [0.024523582309484482, -0.03633105754852295, 0...         148\n",
       "1        1  [-0.002521098591387272, 0.022899063304066658, ...           0\n",
       "2        2  [0.008400454185903072, -0.012612388469278812, ...         149\n",
       "3        3  [-0.004734962247312069, -0.0035224033053964376...         150\n",
       "4        4  [-0.021240245550870895, -0.03918471559882164, ...           1"
      ]
     },
     "execution_count": 13,
     "metadata": {},
     "output_type": "execute_result"
    }
   ],
   "source": [
    "cluster_id_df.head(5)"
   ]
  },
  {
   "cell_type": "code",
   "execution_count": 14,
   "id": "7cd6c490-6d15-45ca-ad3d-810c355f00c7",
   "metadata": {
    "execution": {
     "iopub.execute_input": "2025-04-18T15:17:45.236431Z",
     "iopub.status.busy": "2025-04-18T15:17:45.236292Z",
     "iopub.status.idle": "2025-04-18T15:17:45.245397Z",
     "shell.execute_reply": "2025-04-18T15:17:45.244865Z",
     "shell.execute_reply.started": "2025-04-18T15:17:45.236421Z"
    }
   },
   "outputs": [
    {
     "data": {
      "text/plain": [
       "5155"
      ]
     },
     "execution_count": 14,
     "metadata": {},
     "output_type": "execute_result"
    }
   ],
   "source": [
    "# 创建聚类中心表\n",
    "cluster_center_tmp_df = train_df[['cluster_id', 'cluster_center']]\n",
    "cluster_center_df = cluster_center_tmp_df.groupby('cluster_id').first().reset_index()\n",
    "\n",
    "len(cluster_center_df)"
   ]
  },
  {
   "cell_type": "code",
   "execution_count": 15,
   "id": "ae7dc63d-4235-4315-a14d-81d5dfa928dc",
   "metadata": {
    "execution": {
     "iopub.execute_input": "2025-04-18T15:17:45.245832Z",
     "iopub.status.busy": "2025-04-18T15:17:45.245706Z",
     "iopub.status.idle": "2025-04-18T15:17:45.254829Z",
     "shell.execute_reply": "2025-04-18T15:17:45.254117Z",
     "shell.execute_reply.started": "2025-04-18T15:17:45.245821Z"
    }
   },
   "outputs": [
    {
     "data": {
      "text/html": [
       "<div>\n",
       "<style scoped>\n",
       "    .dataframe tbody tr th:only-of-type {\n",
       "        vertical-align: middle;\n",
       "    }\n",
       "\n",
       "    .dataframe tbody tr th {\n",
       "        vertical-align: top;\n",
       "    }\n",
       "\n",
       "    .dataframe thead th {\n",
       "        text-align: right;\n",
       "    }\n",
       "</style>\n",
       "<table border=\"1\" class=\"dataframe\">\n",
       "  <thead>\n",
       "    <tr style=\"text-align: right;\">\n",
       "      <th></th>\n",
       "      <th>cluster_id</th>\n",
       "      <th>cluster_center</th>\n",
       "    </tr>\n",
       "  </thead>\n",
       "  <tbody>\n",
       "    <tr>\n",
       "      <th>0</th>\n",
       "      <td>0</td>\n",
       "      <td>[-0.00018301361706107855, 0.022485706851714186...</td>\n",
       "    </tr>\n",
       "    <tr>\n",
       "      <th>1</th>\n",
       "      <td>1</td>\n",
       "      <td>[-0.006647970941932206, -0.02852569787230875, ...</td>\n",
       "    </tr>\n",
       "    <tr>\n",
       "      <th>2</th>\n",
       "      <td>2</td>\n",
       "      <td>[0.003304169833427295, -0.008476288610836491, ...</td>\n",
       "    </tr>\n",
       "    <tr>\n",
       "      <th>3</th>\n",
       "      <td>3</td>\n",
       "      <td>[-0.0052974170277593656, 0.035157745331525804,...</td>\n",
       "    </tr>\n",
       "    <tr>\n",
       "      <th>4</th>\n",
       "      <td>4</td>\n",
       "      <td>[0.0017625399269774313, -0.019622230612230104,...</td>\n",
       "    </tr>\n",
       "  </tbody>\n",
       "</table>\n",
       "</div>"
      ],
      "text/plain": [
       "   cluster_id                                     cluster_center\n",
       "0           0  [-0.00018301361706107855, 0.022485706851714186...\n",
       "1           1  [-0.006647970941932206, -0.02852569787230875, ...\n",
       "2           2  [0.003304169833427295, -0.008476288610836491, ...\n",
       "3           3  [-0.0052974170277593656, 0.035157745331525804,...\n",
       "4           4  [0.0017625399269774313, -0.019622230612230104,..."
      ]
     },
     "execution_count": 15,
     "metadata": {},
     "output_type": "execute_result"
    }
   ],
   "source": [
    "cluster_center_df.head(5)"
   ]
  },
  {
   "cell_type": "markdown",
   "id": "aeaedaa4-33c9-4042-90e9-e22ec6d19493",
   "metadata": {},
   "source": [
    "## 二、更新\n",
    "\n",
    "> **WARNING:** 由于 DBSCAN 是一种基于密度成簇的方法，其边界可能是任意非凸形状。因此聚类中心 cluster_center 不一定在簇的内部。因此把聚类中心的 `eps` 邻域的 embedding 归于该簇的方法只是一种近似，实际上并不严谨。"
   ]
  },
  {
   "cell_type": "code",
   "execution_count": 16,
   "id": "703a9367-4387-4c6f-a1a3-8e9205fc8984",
   "metadata": {
    "execution": {
     "iopub.execute_input": "2025-04-18T15:17:45.255698Z",
     "iopub.status.busy": "2025-04-18T15:17:45.255416Z",
     "iopub.status.idle": "2025-04-18T15:17:45.264898Z",
     "shell.execute_reply": "2025-04-18T15:17:45.264309Z",
     "shell.execute_reply.started": "2025-04-18T15:17:45.255683Z"
    }
   },
   "outputs": [
    {
     "data": {
      "text/html": [
       "<div>\n",
       "<style scoped>\n",
       "    .dataframe tbody tr th:only-of-type {\n",
       "        vertical-align: middle;\n",
       "    }\n",
       "\n",
       "    .dataframe tbody tr th {\n",
       "        vertical-align: top;\n",
       "    }\n",
       "\n",
       "    .dataframe thead th {\n",
       "        text-align: right;\n",
       "    }\n",
       "</style>\n",
       "<table border=\"1\" class=\"dataframe\">\n",
       "  <thead>\n",
       "    <tr style=\"text-align: right;\">\n",
       "      <th></th>\n",
       "      <th>item_id</th>\n",
       "      <th>embeddings</th>\n",
       "    </tr>\n",
       "  </thead>\n",
       "  <tbody>\n",
       "    <tr>\n",
       "      <th>7000</th>\n",
       "      <td>7000</td>\n",
       "      <td>[-0.008013587445020676, -0.010674460791051388,...</td>\n",
       "    </tr>\n",
       "    <tr>\n",
       "      <th>7001</th>\n",
       "      <td>7001</td>\n",
       "      <td>[-0.0015732829924672842, -0.018495790660381317...</td>\n",
       "    </tr>\n",
       "    <tr>\n",
       "      <th>7002</th>\n",
       "      <td>7002</td>\n",
       "      <td>[0.00030177217558957636, -0.012919916771352291...</td>\n",
       "    </tr>\n",
       "    <tr>\n",
       "      <th>7003</th>\n",
       "      <td>7003</td>\n",
       "      <td>[-0.0028342537116259336, 0.0014691815013065934...</td>\n",
       "    </tr>\n",
       "    <tr>\n",
       "      <th>7004</th>\n",
       "      <td>7004</td>\n",
       "      <td>[0.002343971747905016, -0.029230637475848198, ...</td>\n",
       "    </tr>\n",
       "    <tr>\n",
       "      <th>...</th>\n",
       "      <td>...</td>\n",
       "      <td>...</td>\n",
       "    </tr>\n",
       "    <tr>\n",
       "      <th>9995</th>\n",
       "      <td>9995</td>\n",
       "      <td>[0.02526906132698059, 0.006334671750664711, 0....</td>\n",
       "    </tr>\n",
       "    <tr>\n",
       "      <th>9996</th>\n",
       "      <td>9996</td>\n",
       "      <td>[-0.0032427890691906214, 0.0032633657101541758...</td>\n",
       "    </tr>\n",
       "    <tr>\n",
       "      <th>9997</th>\n",
       "      <td>9997</td>\n",
       "      <td>[0.001930834841914475, -0.025012478232383728, ...</td>\n",
       "    </tr>\n",
       "    <tr>\n",
       "      <th>9998</th>\n",
       "      <td>9998</td>\n",
       "      <td>[0.025050941854715347, -0.017404677346348763, ...</td>\n",
       "    </tr>\n",
       "    <tr>\n",
       "      <th>9999</th>\n",
       "      <td>9999</td>\n",
       "      <td>[0.03423108905553818, 0.010332481935620308, -0...</td>\n",
       "    </tr>\n",
       "  </tbody>\n",
       "</table>\n",
       "<p>3000 rows × 2 columns</p>\n",
       "</div>"
      ],
      "text/plain": [
       "      item_id                                         embeddings\n",
       "7000     7000  [-0.008013587445020676, -0.010674460791051388,...\n",
       "7001     7001  [-0.0015732829924672842, -0.018495790660381317...\n",
       "7002     7002  [0.00030177217558957636, -0.012919916771352291...\n",
       "7003     7003  [-0.0028342537116259336, 0.0014691815013065934...\n",
       "7004     7004  [0.002343971747905016, -0.029230637475848198, ...\n",
       "...       ...                                                ...\n",
       "9995     9995  [0.02526906132698059, 0.006334671750664711, 0....\n",
       "9996     9996  [-0.0032427890691906214, 0.0032633657101541758...\n",
       "9997     9997  [0.001930834841914475, -0.025012478232383728, ...\n",
       "9998     9998  [0.025050941854715347, -0.017404677346348763, ...\n",
       "9999     9999  [0.03423108905553818, 0.010332481935620308, -0...\n",
       "\n",
       "[3000 rows x 2 columns]"
      ]
     },
     "execution_count": 16,
     "metadata": {},
     "output_type": "execute_result"
    }
   ],
   "source": [
    "test_df = df[SAMPLE_NUM:]\n",
    "test_df"
   ]
  },
  {
   "cell_type": "code",
   "execution_count": 17,
   "id": "88f7e2ac-047b-4739-99db-d87f49d6b1d7",
   "metadata": {
    "execution": {
     "iopub.execute_input": "2025-04-18T15:17:45.265632Z",
     "iopub.status.busy": "2025-04-18T15:17:45.265482Z",
     "iopub.status.idle": "2025-04-18T16:09:31.635710Z",
     "shell.execute_reply": "2025-04-18T16:09:31.633344Z",
     "shell.execute_reply.started": "2025-04-18T15:17:45.265620Z"
    }
   },
   "outputs": [
    {
     "data": {
      "application/vnd.jupyter.widget-view+json": {
       "model_id": "ec5b2abcd2824b5eadb20e5dbc7e9656",
       "version_major": 2,
       "version_minor": 0
      },
      "text/plain": [
       "Processing embeddings:   0%|          | 0/3000 [00:00<?, ?it/s]"
      ]
     },
     "metadata": {},
     "output_type": "display_data"
    }
   ],
   "source": [
    "# 声明一个新的 id 生成器\n",
    "cluster_ids = train_df['cluster_id'].tolist()\n",
    "gen = id_generator(set(cluster_ids))\n",
    "\n",
    "# 新加入的 embedding 比照现有类心，若这个 embedding 在某个类心的 eps 范围内则加入该簇，如果不在就建立新簇\n",
    "test_item_id = test_df['item_id'].tolist()\n",
    "test_embeddings = test_df['embeddings'].tolist()\n",
    "# for embed in test_embeddings:\n",
    "for item_id, embed in tqdm(zip(test_item_id, test_embeddings), total=len(test_df), desc=\"Processing embeddings\"):\n",
    "    found_cluster = False\n",
    "\n",
    "    cluster_ids = cluster_center_df['cluster_id'].tolist()\n",
    "    cluster_centers = cluster_center_df['cluster_center'].tolist()\n",
    "    for cluster_id, cluster_center in zip(cluster_ids, cluster_centers):\n",
    "        distance = cosine_distances([embed], [cluster_center])[0][0]\n",
    "        if distance <= eps:\n",
    "            found_cluster = True\n",
    "            this_cluster_id = cluster_id\n",
    "            this_cluster_center = cluster_center\n",
    "            break\n",
    "    if not found_cluster:\n",
    "        this_cluster_id = next(gen)\n",
    "        this_cluster_center = embed\n",
    "\n",
    "    # 更新聚类 ID 表\n",
    "    cluster_id_row = {\n",
    "        'item_id': item_id,\n",
    "        'embeddings': embed,\n",
    "        'cluster_id': this_cluster_id}\n",
    "    cluster_id_df = pd.concat([cluster_id_df, pd.DataFrame([cluster_id_row])], ignore_index=True)\n",
    "\n",
    "    # 更新聚类中心表\n",
    "    if found_cluster:\n",
    "        # 更新现有聚类中心\n",
    "        cluster_embeddings = cluster_id_df[cluster_id_df[\"cluster_id\"] == this_cluster_id][\"embeddings\"].tolist()\n",
    "        cluster_embeddings += [embed]\n",
    "        new_cluster_center = np.mean(cluster_embeddings, axis=0).tolist()\n",
    "        # 将 new_cluster_center 作为一个整体赋值给每一行\n",
    "        for idx in cluster_center_df.index[cluster_center_df['cluster_id'] == this_cluster_id]:\n",
    "            cluster_center_df.at[idx, 'cluster_center'] = new_cluster_center\n",
    "    else:\n",
    "        # 新建聚类中心\n",
    "        cluster_center_row = {\n",
    "            'cluster_id': this_cluster_id,\n",
    "            'cluster_center': this_cluster_center}\n",
    "        cluster_center_df = pd.concat([cluster_center_df, pd.DataFrame([cluster_center_row])], ignore_index=True)"
   ]
  },
  {
   "cell_type": "code",
   "execution_count": 18,
   "id": "3e51eac7-80bd-44be-9da5-84cee5e6fb3d",
   "metadata": {
    "execution": {
     "iopub.execute_input": "2025-04-18T16:09:31.639160Z",
     "iopub.status.busy": "2025-04-18T16:09:31.638180Z",
     "iopub.status.idle": "2025-04-18T16:09:31.662161Z",
     "shell.execute_reply": "2025-04-18T16:09:31.661361Z",
     "shell.execute_reply.started": "2025-04-18T16:09:31.639109Z"
    }
   },
   "outputs": [
    {
     "data": {
      "text/html": [
       "<div>\n",
       "<style scoped>\n",
       "    .dataframe tbody tr th:only-of-type {\n",
       "        vertical-align: middle;\n",
       "    }\n",
       "\n",
       "    .dataframe tbody tr th {\n",
       "        vertical-align: top;\n",
       "    }\n",
       "\n",
       "    .dataframe thead th {\n",
       "        text-align: right;\n",
       "    }\n",
       "</style>\n",
       "<table border=\"1\" class=\"dataframe\">\n",
       "  <thead>\n",
       "    <tr style=\"text-align: right;\">\n",
       "      <th></th>\n",
       "      <th>item_id</th>\n",
       "      <th>embeddings</th>\n",
       "      <th>cluster_id</th>\n",
       "    </tr>\n",
       "  </thead>\n",
       "  <tbody>\n",
       "    <tr>\n",
       "      <th>0</th>\n",
       "      <td>0</td>\n",
       "      <td>[0.024523582309484482, -0.03633105754852295, 0...</td>\n",
       "      <td>148</td>\n",
       "    </tr>\n",
       "    <tr>\n",
       "      <th>1</th>\n",
       "      <td>1</td>\n",
       "      <td>[-0.002521098591387272, 0.022899063304066658, ...</td>\n",
       "      <td>0</td>\n",
       "    </tr>\n",
       "    <tr>\n",
       "      <th>2</th>\n",
       "      <td>2</td>\n",
       "      <td>[0.008400454185903072, -0.012612388469278812, ...</td>\n",
       "      <td>149</td>\n",
       "    </tr>\n",
       "    <tr>\n",
       "      <th>3</th>\n",
       "      <td>3</td>\n",
       "      <td>[-0.004734962247312069, -0.0035224033053964376...</td>\n",
       "      <td>150</td>\n",
       "    </tr>\n",
       "    <tr>\n",
       "      <th>4</th>\n",
       "      <td>4</td>\n",
       "      <td>[-0.021240245550870895, -0.03918471559882164, ...</td>\n",
       "      <td>1</td>\n",
       "    </tr>\n",
       "    <tr>\n",
       "      <th>...</th>\n",
       "      <td>...</td>\n",
       "      <td>...</td>\n",
       "      <td>...</td>\n",
       "    </tr>\n",
       "    <tr>\n",
       "      <th>9995</th>\n",
       "      <td>9995</td>\n",
       "      <td>[0.02526906132698059, 0.006334671750664711, 0....</td>\n",
       "      <td>7180</td>\n",
       "    </tr>\n",
       "    <tr>\n",
       "      <th>9996</th>\n",
       "      <td>9996</td>\n",
       "      <td>[-0.0032427890691906214, 0.0032633657101541758...</td>\n",
       "      <td>7181</td>\n",
       "    </tr>\n",
       "    <tr>\n",
       "      <th>9997</th>\n",
       "      <td>9997</td>\n",
       "      <td>[0.001930834841914475, -0.025012478232383728, ...</td>\n",
       "      <td>38</td>\n",
       "    </tr>\n",
       "    <tr>\n",
       "      <th>9998</th>\n",
       "      <td>9998</td>\n",
       "      <td>[0.025050941854715347, -0.017404677346348763, ...</td>\n",
       "      <td>56</td>\n",
       "    </tr>\n",
       "    <tr>\n",
       "      <th>9999</th>\n",
       "      <td>9999</td>\n",
       "      <td>[0.03423108905553818, 0.010332481935620308, -0...</td>\n",
       "      <td>7182</td>\n",
       "    </tr>\n",
       "  </tbody>\n",
       "</table>\n",
       "<p>10000 rows × 3 columns</p>\n",
       "</div>"
      ],
      "text/plain": [
       "      item_id                                         embeddings  cluster_id\n",
       "0           0  [0.024523582309484482, -0.03633105754852295, 0...         148\n",
       "1           1  [-0.002521098591387272, 0.022899063304066658, ...           0\n",
       "2           2  [0.008400454185903072, -0.012612388469278812, ...         149\n",
       "3           3  [-0.004734962247312069, -0.0035224033053964376...         150\n",
       "4           4  [-0.021240245550870895, -0.03918471559882164, ...           1\n",
       "...       ...                                                ...         ...\n",
       "9995     9995  [0.02526906132698059, 0.006334671750664711, 0....        7180\n",
       "9996     9996  [-0.0032427890691906214, 0.0032633657101541758...        7181\n",
       "9997     9997  [0.001930834841914475, -0.025012478232383728, ...          38\n",
       "9998     9998  [0.025050941854715347, -0.017404677346348763, ...          56\n",
       "9999     9999  [0.03423108905553818, 0.010332481935620308, -0...        7182\n",
       "\n",
       "[10000 rows x 3 columns]"
      ]
     },
     "execution_count": 18,
     "metadata": {},
     "output_type": "execute_result"
    }
   ],
   "source": [
    "cluster_id_df"
   ]
  },
  {
   "cell_type": "code",
   "execution_count": 19,
   "id": "59b11973-80e2-431d-9907-69808e6324ab",
   "metadata": {
    "execution": {
     "iopub.execute_input": "2025-04-18T16:09:31.663089Z",
     "iopub.status.busy": "2025-04-18T16:09:31.662826Z",
     "iopub.status.idle": "2025-04-18T16:09:31.699800Z",
     "shell.execute_reply": "2025-04-18T16:09:31.699190Z",
     "shell.execute_reply.started": "2025-04-18T16:09:31.663074Z"
    }
   },
   "outputs": [
    {
     "data": {
      "text/html": [
       "<div>\n",
       "<style scoped>\n",
       "    .dataframe tbody tr th:only-of-type {\n",
       "        vertical-align: middle;\n",
       "    }\n",
       "\n",
       "    .dataframe tbody tr th {\n",
       "        vertical-align: top;\n",
       "    }\n",
       "\n",
       "    .dataframe thead th {\n",
       "        text-align: right;\n",
       "    }\n",
       "</style>\n",
       "<table border=\"1\" class=\"dataframe\">\n",
       "  <thead>\n",
       "    <tr style=\"text-align: right;\">\n",
       "      <th></th>\n",
       "      <th>cluster_id</th>\n",
       "      <th>cluster_center</th>\n",
       "    </tr>\n",
       "  </thead>\n",
       "  <tbody>\n",
       "    <tr>\n",
       "      <th>0</th>\n",
       "      <td>0</td>\n",
       "      <td>[-0.0016610274324193597, 0.022706498248645894,...</td>\n",
       "    </tr>\n",
       "    <tr>\n",
       "      <th>1</th>\n",
       "      <td>1</td>\n",
       "      <td>[-0.0076888806399846524, -0.026927861867339482...</td>\n",
       "    </tr>\n",
       "    <tr>\n",
       "      <th>2</th>\n",
       "      <td>2</td>\n",
       "      <td>[0.003304169833427295, -0.008476288610836491, ...</td>\n",
       "    </tr>\n",
       "    <tr>\n",
       "      <th>3</th>\n",
       "      <td>3</td>\n",
       "      <td>[-0.005446118474840962, 0.03490327546993891, 0...</td>\n",
       "    </tr>\n",
       "    <tr>\n",
       "      <th>4</th>\n",
       "      <td>4</td>\n",
       "      <td>[-0.0017701715878052867, -0.019710551424204935...</td>\n",
       "    </tr>\n",
       "    <tr>\n",
       "      <th>...</th>\n",
       "      <td>...</td>\n",
       "      <td>...</td>\n",
       "    </tr>\n",
       "    <tr>\n",
       "      <th>7178</th>\n",
       "      <td>7178</td>\n",
       "      <td>[-0.027295535430312157, 0.028355276212096214, ...</td>\n",
       "    </tr>\n",
       "    <tr>\n",
       "      <th>7179</th>\n",
       "      <td>7179</td>\n",
       "      <td>[0.04032472148537636, -0.017514986917376518, 0...</td>\n",
       "    </tr>\n",
       "    <tr>\n",
       "      <th>7180</th>\n",
       "      <td>7180</td>\n",
       "      <td>[0.02526906132698059, 0.006334671750664711, 0....</td>\n",
       "    </tr>\n",
       "    <tr>\n",
       "      <th>7181</th>\n",
       "      <td>7181</td>\n",
       "      <td>[-0.0032427890691906214, 0.0032633657101541758...</td>\n",
       "    </tr>\n",
       "    <tr>\n",
       "      <th>7182</th>\n",
       "      <td>7182</td>\n",
       "      <td>[0.03423108905553818, 0.010332481935620308, -0...</td>\n",
       "    </tr>\n",
       "  </tbody>\n",
       "</table>\n",
       "<p>7183 rows × 2 columns</p>\n",
       "</div>"
      ],
      "text/plain": [
       "      cluster_id                                     cluster_center\n",
       "0              0  [-0.0016610274324193597, 0.022706498248645894,...\n",
       "1              1  [-0.0076888806399846524, -0.026927861867339482...\n",
       "2              2  [0.003304169833427295, -0.008476288610836491, ...\n",
       "3              3  [-0.005446118474840962, 0.03490327546993891, 0...\n",
       "4              4  [-0.0017701715878052867, -0.019710551424204935...\n",
       "...          ...                                                ...\n",
       "7178        7178  [-0.027295535430312157, 0.028355276212096214, ...\n",
       "7179        7179  [0.04032472148537636, -0.017514986917376518, 0...\n",
       "7180        7180  [0.02526906132698059, 0.006334671750664711, 0....\n",
       "7181        7181  [-0.0032427890691906214, 0.0032633657101541758...\n",
       "7182        7182  [0.03423108905553818, 0.010332481935620308, -0...\n",
       "\n",
       "[7183 rows x 2 columns]"
      ]
     },
     "execution_count": 19,
     "metadata": {},
     "output_type": "execute_result"
    }
   ],
   "source": [
    "cluster_center_df"
   ]
  },
  {
   "cell_type": "code",
   "execution_count": null,
   "id": "c9dde110-1926-4dab-865f-02c6851495b9",
   "metadata": {},
   "outputs": [],
   "source": []
  }
 ],
 "metadata": {
  "kernelspec": {
   "display_name": "Python (vllm_env)",
   "language": "python",
   "name": "vllm_env"
  },
  "language_info": {
   "codemirror_mode": {
    "name": "ipython",
    "version": 3
   },
   "file_extension": ".py",
   "mimetype": "text/x-python",
   "name": "python",
   "nbconvert_exporter": "python",
   "pygments_lexer": "ipython3",
   "version": "3.9.21"
  }
 },
 "nbformat": 4,
 "nbformat_minor": 5
}
