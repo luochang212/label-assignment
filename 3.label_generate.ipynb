{
 "cells": [
  {
   "cell_type": "markdown",
   "id": "f874154a-8eac-4762-971f-a807dde247eb",
   "metadata": {},
   "source": [
    "# 标签生成\n",
    "\n"
   ]
  },
  {
   "cell_type": "code",
   "execution_count": 1,
   "id": "d9ab2369-d226-4d7c-aa7b-ffb568b923c8",
   "metadata": {
    "execution": {
     "iopub.execute_input": "2025-04-08T12:56:12.789436Z",
     "iopub.status.busy": "2025-04-08T12:56:12.789103Z",
     "iopub.status.idle": "2025-04-08T12:56:14.132730Z",
     "shell.execute_reply": "2025-04-08T12:56:14.131619Z",
     "shell.execute_reply.started": "2025-04-08T12:56:12.789406Z"
    }
   },
   "outputs": [],
   "source": [
    "import os\n",
    "import collections\n",
    "import numpy as np\n",
    "import pandas as pd\n",
    "import matplotlib.pyplot as plt\n",
    "\n",
    "import utils\n",
    "\n",
    "from typing import Dict, Set, Tuple, List\n",
    "from sklearn.cluster import DBSCAN\n",
    "\n",
    "CSV_PATH = './data'\n",
    "SAMPLE_NUM = 7000\n",
    "\n",
    "os.environ[\"LOKY_MAX_CPU_COUNT\"] = \"4\"\n",
    "\n",
    "if utils.in_jupyter():\n",
    "    # 在 Jupyter 时 tqdm 的导入方式\n",
    "    from tqdm.notebook import tqdm\n",
    "else:\n",
    "    # 在终端时 tqdm 的导入方式\n",
    "    from tqdm import tqdm"
   ]
  },
  {
   "cell_type": "code",
   "execution_count": 2,
   "id": "ea040563-5e18-4546-b261-77abbaadf460",
   "metadata": {
    "execution": {
     "iopub.execute_input": "2025-04-08T13:05:08.496783Z",
     "iopub.status.busy": "2025-04-08T13:05:08.496372Z",
     "iopub.status.idle": "2025-04-08T13:05:44.737723Z",
     "shell.execute_reply": "2025-04-08T13:05:44.737139Z",
     "shell.execute_reply.started": "2025-04-08T13:05:08.496758Z"
    }
   },
   "outputs": [
    {
     "data": {
      "text/plain": [
       "(10000, 100)"
      ]
     },
     "execution_count": 2,
     "metadata": {},
     "output_type": "execute_result"
    }
   ],
   "source": [
    "# 将 csv 读入 DataFrame\n",
    "train_csv_path = os.path.join(CSV_PATH, 'embed_label.csv')\n",
    "df = utils.read_embedding_csv(csv_path=train_csv_path,\n",
    "                              ebd_cols=['embeddings'])\n",
    "len(df), len(set(df['labels'].tolist()))"
   ]
  },
  {
   "cell_type": "code",
   "execution_count": 3,
   "id": "a613ddd3-1ede-4fae-9bbe-2bfe83e51c80",
   "metadata": {
    "execution": {
     "iopub.execute_input": "2025-04-08T13:05:44.738704Z",
     "iopub.status.busy": "2025-04-08T13:05:44.738456Z",
     "iopub.status.idle": "2025-04-08T13:05:44.745742Z",
     "shell.execute_reply": "2025-04-08T13:05:44.744827Z",
     "shell.execute_reply.started": "2025-04-08T13:05:44.738689Z"
    }
   },
   "outputs": [
    {
     "data": {
      "text/html": [
       "<div>\n",
       "<style scoped>\n",
       "    .dataframe tbody tr th:only-of-type {\n",
       "        vertical-align: middle;\n",
       "    }\n",
       "\n",
       "    .dataframe tbody tr th {\n",
       "        vertical-align: top;\n",
       "    }\n",
       "\n",
       "    .dataframe thead th {\n",
       "        text-align: right;\n",
       "    }\n",
       "</style>\n",
       "<table border=\"1\" class=\"dataframe\">\n",
       "  <thead>\n",
       "    <tr style=\"text-align: right;\">\n",
       "      <th></th>\n",
       "      <th>embeddings</th>\n",
       "    </tr>\n",
       "  </thead>\n",
       "  <tbody>\n",
       "    <tr>\n",
       "      <th>0</th>\n",
       "      <td>[0.024523582309484482, -0.03633105754852295, 0...</td>\n",
       "    </tr>\n",
       "    <tr>\n",
       "      <th>1</th>\n",
       "      <td>[-0.002521098591387272, 0.022899063304066658, ...</td>\n",
       "    </tr>\n",
       "    <tr>\n",
       "      <th>2</th>\n",
       "      <td>[0.008400454185903072, -0.012612388469278812, ...</td>\n",
       "    </tr>\n",
       "    <tr>\n",
       "      <th>3</th>\n",
       "      <td>[-0.004734962247312069, -0.0035224033053964376...</td>\n",
       "    </tr>\n",
       "    <tr>\n",
       "      <th>4</th>\n",
       "      <td>[-0.021240245550870895, -0.03918471559882164, ...</td>\n",
       "    </tr>\n",
       "  </tbody>\n",
       "</table>\n",
       "</div>"
      ],
      "text/plain": [
       "                                          embeddings\n",
       "0  [0.024523582309484482, -0.03633105754852295, 0...\n",
       "1  [-0.002521098591387272, 0.022899063304066658, ...\n",
       "2  [0.008400454185903072, -0.012612388469278812, ...\n",
       "3  [-0.004734962247312069, -0.0035224033053964376...\n",
       "4  [-0.021240245550870895, -0.03918471559882164, ..."
      ]
     },
     "execution_count": 3,
     "metadata": {},
     "output_type": "execute_result"
    }
   ],
   "source": [
    "df = df.drop(columns=['labels'])\n",
    "df.head()"
   ]
  },
  {
   "cell_type": "code",
   "execution_count": 4,
   "id": "ae47c9e4-3baf-4241-a22a-73fc13e207b2",
   "metadata": {
    "execution": {
     "iopub.execute_input": "2025-04-08T13:05:44.746147Z",
     "iopub.status.busy": "2025-04-08T13:05:44.746047Z",
     "iopub.status.idle": "2025-04-08T13:05:44.776678Z",
     "shell.execute_reply": "2025-04-08T13:05:44.775497Z",
     "shell.execute_reply.started": "2025-04-08T13:05:44.746138Z"
    }
   },
   "outputs": [
    {
     "data": {
      "text/plain": [
       "(1408,)"
      ]
     },
     "execution_count": 4,
     "metadata": {},
     "output_type": "execute_result"
    }
   ],
   "source": [
    "df['embeddings'][0].shape"
   ]
  },
  {
   "cell_type": "code",
   "execution_count": 5,
   "id": "42acf16b-115f-41e2-9d0e-ed797e6104ba",
   "metadata": {
    "execution": {
     "iopub.execute_input": "2025-04-08T13:05:44.778295Z",
     "iopub.status.busy": "2025-04-08T13:05:44.778037Z",
     "iopub.status.idle": "2025-04-08T13:05:46.136027Z",
     "shell.execute_reply": "2025-04-08T13:05:46.135269Z",
     "shell.execute_reply.started": "2025-04-08T13:05:44.778274Z"
    }
   },
   "outputs": [],
   "source": [
    "train_df = df.head(SAMPLE_NUM).copy()\n",
    "\n",
    "eps=0.1\n",
    "clustering = DBSCAN(eps=eps, min_samples=3, metric='cosine').fit(train_df['embeddings'].tolist())\n",
    "labels = clustering.labels_"
   ]
  },
  {
   "cell_type": "code",
   "execution_count": 6,
   "id": "bc663867-f349-44a6-8ed6-b4f0437239e9",
   "metadata": {
    "execution": {
     "iopub.execute_input": "2025-04-08T13:05:46.139684Z",
     "iopub.status.busy": "2025-04-08T13:05:46.137654Z",
     "iopub.status.idle": "2025-04-08T13:05:46.148452Z",
     "shell.execute_reply": "2025-04-08T13:05:46.148082Z",
     "shell.execute_reply.started": "2025-04-08T13:05:46.139661Z"
    }
   },
   "outputs": [
    {
     "data": {
      "text/plain": [
       "(7000, 147, 1993)"
      ]
     },
     "execution_count": 6,
     "metadata": {},
     "output_type": "execute_result"
    }
   ],
   "source": [
    "len(labels), max(labels), len([1 for e in labels if e != -1])"
   ]
  },
  {
   "cell_type": "code",
   "execution_count": 7,
   "id": "49ce6cd8-4968-405a-a1c1-9496778e5a40",
   "metadata": {
    "execution": {
     "iopub.execute_input": "2025-04-08T13:05:46.148817Z",
     "iopub.status.busy": "2025-04-08T13:05:46.148719Z",
     "iopub.status.idle": "2025-04-08T13:05:46.171024Z",
     "shell.execute_reply": "2025-04-08T13:05:46.170372Z",
     "shell.execute_reply.started": "2025-04-08T13:05:46.148808Z"
    }
   },
   "outputs": [
    {
     "data": {
      "text/plain": [
       "[(-1, 5007), (10, 117), (17, 72), (8, 67), (6, 64)]"
      ]
     },
     "execution_count": 7,
     "metadata": {},
     "output_type": "execute_result"
    }
   ],
   "source": [
    "labels_counter = collections.Counter(labels)\n",
    "sorted_labels = sorted(labels_counter.items(), key=lambda e: e[1], reverse=True)\n",
    "sorted_labels[:5]"
   ]
  },
  {
   "cell_type": "code",
   "execution_count": 8,
   "id": "c2023c1a-34a4-4b9f-8faa-0ca9e20f8bc6",
   "metadata": {
    "execution": {
     "iopub.execute_input": "2025-04-08T13:05:46.171474Z",
     "iopub.status.busy": "2025-04-08T13:05:46.171355Z",
     "iopub.status.idle": "2025-04-08T13:05:46.252700Z",
     "shell.execute_reply": "2025-04-08T13:05:46.249552Z",
     "shell.execute_reply.started": "2025-04-08T13:05:46.171464Z"
    }
   },
   "outputs": [
    {
     "data": {
      "text/html": [
       "<div>\n",
       "<style scoped>\n",
       "    .dataframe tbody tr th:only-of-type {\n",
       "        vertical-align: middle;\n",
       "    }\n",
       "\n",
       "    .dataframe tbody tr th {\n",
       "        vertical-align: top;\n",
       "    }\n",
       "\n",
       "    .dataframe thead th {\n",
       "        text-align: right;\n",
       "    }\n",
       "</style>\n",
       "<table border=\"1\" class=\"dataframe\">\n",
       "  <thead>\n",
       "    <tr style=\"text-align: right;\">\n",
       "      <th></th>\n",
       "      <th>embeddings</th>\n",
       "      <th>dbscan_id</th>\n",
       "    </tr>\n",
       "  </thead>\n",
       "  <tbody>\n",
       "    <tr>\n",
       "      <th>0</th>\n",
       "      <td>[0.024523582309484482, -0.03633105754852295, 0...</td>\n",
       "      <td>-1</td>\n",
       "    </tr>\n",
       "    <tr>\n",
       "      <th>1</th>\n",
       "      <td>[-0.002521098591387272, 0.022899063304066658, ...</td>\n",
       "      <td>0</td>\n",
       "    </tr>\n",
       "    <tr>\n",
       "      <th>2</th>\n",
       "      <td>[0.008400454185903072, -0.012612388469278812, ...</td>\n",
       "      <td>-1</td>\n",
       "    </tr>\n",
       "    <tr>\n",
       "      <th>3</th>\n",
       "      <td>[-0.004734962247312069, -0.0035224033053964376...</td>\n",
       "      <td>-1</td>\n",
       "    </tr>\n",
       "    <tr>\n",
       "      <th>4</th>\n",
       "      <td>[-0.021240245550870895, -0.03918471559882164, ...</td>\n",
       "      <td>1</td>\n",
       "    </tr>\n",
       "    <tr>\n",
       "      <th>...</th>\n",
       "      <td>...</td>\n",
       "      <td>...</td>\n",
       "    </tr>\n",
       "    <tr>\n",
       "      <th>6995</th>\n",
       "      <td>[0.013036987744271755, 0.004907825030386448, 0...</td>\n",
       "      <td>5</td>\n",
       "    </tr>\n",
       "    <tr>\n",
       "      <th>6996</th>\n",
       "      <td>[0.006075031124055386, 0.06972860544919968, 0....</td>\n",
       "      <td>-1</td>\n",
       "    </tr>\n",
       "    <tr>\n",
       "      <th>6997</th>\n",
       "      <td>[-0.0033710638526827097, 0.03442999720573425, ...</td>\n",
       "      <td>-1</td>\n",
       "    </tr>\n",
       "    <tr>\n",
       "      <th>6998</th>\n",
       "      <td>[-0.02391742914915085, 0.04698537290096283, 0....</td>\n",
       "      <td>100</td>\n",
       "    </tr>\n",
       "    <tr>\n",
       "      <th>6999</th>\n",
       "      <td>[-0.00621715746819973, 0.024464603513479233, 0...</td>\n",
       "      <td>94</td>\n",
       "    </tr>\n",
       "  </tbody>\n",
       "</table>\n",
       "<p>7000 rows × 2 columns</p>\n",
       "</div>"
      ],
      "text/plain": [
       "                                             embeddings  dbscan_id\n",
       "0     [0.024523582309484482, -0.03633105754852295, 0...         -1\n",
       "1     [-0.002521098591387272, 0.022899063304066658, ...          0\n",
       "2     [0.008400454185903072, -0.012612388469278812, ...         -1\n",
       "3     [-0.004734962247312069, -0.0035224033053964376...         -1\n",
       "4     [-0.021240245550870895, -0.03918471559882164, ...          1\n",
       "...                                                 ...        ...\n",
       "6995  [0.013036987744271755, 0.004907825030386448, 0...          5\n",
       "6996  [0.006075031124055386, 0.06972860544919968, 0....         -1\n",
       "6997  [-0.0033710638526827097, 0.03442999720573425, ...         -1\n",
       "6998  [-0.02391742914915085, 0.04698537290096283, 0....        100\n",
       "6999  [-0.00621715746819973, 0.024464603513479233, 0...         94\n",
       "\n",
       "[7000 rows x 2 columns]"
      ]
     },
     "execution_count": 8,
     "metadata": {},
     "output_type": "execute_result"
    }
   ],
   "source": [
    "# 把 labels 作为 dbscan_id 写入 DataFrame 中\n",
    "train_df['dbscan_id'] = labels\n",
    "train_df"
   ]
  },
  {
   "cell_type": "code",
   "execution_count": 9,
   "id": "4a18d478-4d9a-44fe-8928-7fbc0b3af115",
   "metadata": {
    "execution": {
     "iopub.execute_input": "2025-04-08T13:08:56.097135Z",
     "iopub.status.busy": "2025-04-08T13:08:56.096639Z",
     "iopub.status.idle": "2025-04-08T13:08:56.123027Z",
     "shell.execute_reply": "2025-04-08T13:08:56.120897Z",
     "shell.execute_reply.started": "2025-04-08T13:08:56.097082Z"
    }
   },
   "outputs": [
    {
     "data": {
      "text/html": [
       "<div>\n",
       "<style scoped>\n",
       "    .dataframe tbody tr th:only-of-type {\n",
       "        vertical-align: middle;\n",
       "    }\n",
       "\n",
       "    .dataframe tbody tr th {\n",
       "        vertical-align: top;\n",
       "    }\n",
       "\n",
       "    .dataframe thead th {\n",
       "        text-align: right;\n",
       "    }\n",
       "</style>\n",
       "<table border=\"1\" class=\"dataframe\">\n",
       "  <thead>\n",
       "    <tr style=\"text-align: right;\">\n",
       "      <th></th>\n",
       "      <th>embeddings</th>\n",
       "      <th>dbscan_id</th>\n",
       "      <th>cluster_id</th>\n",
       "    </tr>\n",
       "  </thead>\n",
       "  <tbody>\n",
       "    <tr>\n",
       "      <th>0</th>\n",
       "      <td>[0.024523582309484482, -0.03633105754852295, 0...</td>\n",
       "      <td>-1</td>\n",
       "      <td>148</td>\n",
       "    </tr>\n",
       "    <tr>\n",
       "      <th>1</th>\n",
       "      <td>[-0.002521098591387272, 0.022899063304066658, ...</td>\n",
       "      <td>0</td>\n",
       "      <td>0</td>\n",
       "    </tr>\n",
       "    <tr>\n",
       "      <th>2</th>\n",
       "      <td>[0.008400454185903072, -0.012612388469278812, ...</td>\n",
       "      <td>-1</td>\n",
       "      <td>149</td>\n",
       "    </tr>\n",
       "    <tr>\n",
       "      <th>3</th>\n",
       "      <td>[-0.004734962247312069, -0.0035224033053964376...</td>\n",
       "      <td>-1</td>\n",
       "      <td>150</td>\n",
       "    </tr>\n",
       "    <tr>\n",
       "      <th>4</th>\n",
       "      <td>[-0.021240245550870895, -0.03918471559882164, ...</td>\n",
       "      <td>1</td>\n",
       "      <td>1</td>\n",
       "    </tr>\n",
       "  </tbody>\n",
       "</table>\n",
       "</div>"
      ],
      "text/plain": [
       "                                          embeddings  dbscan_id  cluster_id\n",
       "0  [0.024523582309484482, -0.03633105754852295, 0...         -1         148\n",
       "1  [-0.002521098591387272, 0.022899063304066658, ...          0           0\n",
       "2  [0.008400454185903072, -0.012612388469278812, ...         -1         149\n",
       "3  [-0.004734962247312069, -0.0035224033053964376...         -1         150\n",
       "4  [-0.021240245550870895, -0.03918471559882164, ...          1           1"
      ]
     },
     "execution_count": 9,
     "metadata": {},
     "output_type": "execute_result"
    }
   ],
   "source": [
    "# 新增一个列 cluster_id，为值为 -1 的类赋予 label\n",
    "\n",
    "def id_generator(used_id_set: Set[int]):\n",
    "    \"\"\"生成未被使用的最小ID\"\"\"\n",
    "    i = 0\n",
    "    while True:\n",
    "        while i in used_id_set:\n",
    "            i += 1\n",
    "        yield i\n",
    "        i += 1\n",
    "\n",
    "dbscan_ids = train_df['dbscan_id'].tolist()\n",
    "gen = id_generator(set(dbscan_ids))\n",
    "\n",
    "cluster_id = list()\n",
    "for e in train_df['dbscan_id'].tolist():\n",
    "    if e == -1:\n",
    "        cluster_id.append(next(gen))\n",
    "    else:\n",
    "        cluster_id.append(e)\n",
    "\n",
    "train_df['cluster_id'] = cluster_id\n",
    "train_df.head(5)"
   ]
  },
  {
   "cell_type": "code",
   "execution_count": 10,
   "id": "04b4b543-68b5-4174-b545-cf3fb7c2e03f",
   "metadata": {
    "execution": {
     "iopub.execute_input": "2025-04-08T13:14:21.084880Z",
     "iopub.status.busy": "2025-04-08T13:14:21.084421Z",
     "iopub.status.idle": "2025-04-08T13:14:23.008886Z",
     "shell.execute_reply": "2025-04-08T13:14:23.008328Z",
     "shell.execute_reply.started": "2025-04-08T13:14:21.084854Z"
    }
   },
   "outputs": [
    {
     "data": {
      "text/html": [
       "<div>\n",
       "<style scoped>\n",
       "    .dataframe tbody tr th:only-of-type {\n",
       "        vertical-align: middle;\n",
       "    }\n",
       "\n",
       "    .dataframe tbody tr th {\n",
       "        vertical-align: top;\n",
       "    }\n",
       "\n",
       "    .dataframe thead th {\n",
       "        text-align: right;\n",
       "    }\n",
       "</style>\n",
       "<table border=\"1\" class=\"dataframe\">\n",
       "  <thead>\n",
       "    <tr style=\"text-align: right;\">\n",
       "      <th></th>\n",
       "      <th>embeddings</th>\n",
       "      <th>dbscan_id</th>\n",
       "      <th>cluster_id</th>\n",
       "      <th>cluster_center</th>\n",
       "    </tr>\n",
       "  </thead>\n",
       "  <tbody>\n",
       "    <tr>\n",
       "      <th>0</th>\n",
       "      <td>[0.024523582309484482, -0.03633105754852295, 0...</td>\n",
       "      <td>-1</td>\n",
       "      <td>148</td>\n",
       "      <td>[0.024523582309484482, -0.03633105754852295, 0...</td>\n",
       "    </tr>\n",
       "    <tr>\n",
       "      <th>1</th>\n",
       "      <td>[-0.002521098591387272, 0.022899063304066658, ...</td>\n",
       "      <td>0</td>\n",
       "      <td>0</td>\n",
       "      <td>[-0.00018301361706107855, 0.022485706851714186...</td>\n",
       "    </tr>\n",
       "    <tr>\n",
       "      <th>2</th>\n",
       "      <td>[0.008400454185903072, -0.012612388469278812, ...</td>\n",
       "      <td>-1</td>\n",
       "      <td>149</td>\n",
       "      <td>[0.008400454185903072, -0.012612388469278812, ...</td>\n",
       "    </tr>\n",
       "    <tr>\n",
       "      <th>3</th>\n",
       "      <td>[-0.004734962247312069, -0.0035224033053964376...</td>\n",
       "      <td>-1</td>\n",
       "      <td>150</td>\n",
       "      <td>[-0.004734962247312069, -0.0035224033053964376...</td>\n",
       "    </tr>\n",
       "    <tr>\n",
       "      <th>4</th>\n",
       "      <td>[-0.021240245550870895, -0.03918471559882164, ...</td>\n",
       "      <td>1</td>\n",
       "      <td>1</td>\n",
       "      <td>[-0.006647970941932206, -0.02852569787230875, ...</td>\n",
       "    </tr>\n",
       "  </tbody>\n",
       "</table>\n",
       "</div>"
      ],
      "text/plain": [
       "                                          embeddings  dbscan_id  cluster_id  \\\n",
       "0  [0.024523582309484482, -0.03633105754852295, 0...         -1         148   \n",
       "1  [-0.002521098591387272, 0.022899063304066658, ...          0           0   \n",
       "2  [0.008400454185903072, -0.012612388469278812, ...         -1         149   \n",
       "3  [-0.004734962247312069, -0.0035224033053964376...         -1         150   \n",
       "4  [-0.021240245550870895, -0.03918471559882164, ...          1           1   \n",
       "\n",
       "                                      cluster_center  \n",
       "0  [0.024523582309484482, -0.03633105754852295, 0...  \n",
       "1  [-0.00018301361706107855, 0.022485706851714186...  \n",
       "2  [0.008400454185903072, -0.012612388469278812, ...  \n",
       "3  [-0.004734962247312069, -0.0035224033053964376...  \n",
       "4  [-0.006647970941932206, -0.02852569787230875, ...  "
      ]
     },
     "execution_count": 10,
     "metadata": {},
     "output_type": "execute_result"
    }
   ],
   "source": [
    "# 为每个 cluster_id 计算聚类中心\n",
    "cluster_center = list()\n",
    "for e in train_df['cluster_id'].tolist():\n",
    "    embeds = train_df[train_df[\"cluster_id\"] == e][\"embeddings\"]\n",
    "    cluster_center.append(np.mean(embeds, axis=0).tolist())\n",
    "\n",
    "train_df['cluster_center'] = cluster_center\n",
    "train_df.head(5)"
   ]
  },
  {
   "cell_type": "code",
   "execution_count": 11,
   "id": "5fdb9a69-a1f0-4270-9c9e-d0126b16adba",
   "metadata": {},
   "outputs": [
    {
     "data": {
      "text/plain": [
       "3000"
      ]
     },
     "execution_count": 11,
     "metadata": {},
     "output_type": "execute_result"
    }
   ],
   "source": [
    "# 新 embedding 加入现有聚类\n",
    "test_embeddings = df['embeddings'][SAMPLE_NUM:].tolist()\n",
    "len(test_embeddings)"
   ]
  },
  {
   "cell_type": "markdown",
   "id": "a07df40c-8f2a-43b5-b873-774c30ed81cd",
   "metadata": {},
   "source": [
    "由于 DBSCAN 基于密度可达性成簇，其边界可能是任意非凸形状。因此 cluster_center 不一定在簇内部。\n",
    "\n",
    "为了简化新 embeddings 加入现有簇的流程，我们只将在 cluster_center 的 eps 邻域内的 embeddings 加入现有簇，否则建立新簇。这种做法一点也不严谨hhh，但是看你的任务是什么，在我的任务下这种做法还算堪用，好处是计算量小，服务器不会太累。"
   ]
  },
  {
   "cell_type": "code",
   "execution_count": 12,
   "id": "88f7e2ac-047b-4739-99db-d87f49d6b1d7",
   "metadata": {},
   "outputs": [
    {
     "data": {
      "application/vnd.jupyter.widget-view+json": {
       "model_id": "7238e238e5f9449d98d29a72eaaa9983",
       "version_major": 2,
       "version_minor": 0
      },
      "text/plain": [
       "Processing embeddings:   0%|          | 0/3000 [00:00<?, ?it/s]"
      ]
     },
     "metadata": {},
     "output_type": "display_data"
    }
   ],
   "source": [
    "from sklearn.metrics.pairwise import cosine_distances\n",
    "\n",
    "# 将列表转换为元组进行去重\n",
    "def remove_duplicate(lst):\n",
    "    unique_tuples = set(tuple(sublist) for sublist in lst)\n",
    "    return [list(t) for t in unique_tuples]\n",
    "\n",
    "# 声明一个新的 id 生成器\n",
    "cluster_ids = train_df['cluster_id'].tolist()\n",
    "gen = id_generator(set(cluster_ids))\n",
    "\n",
    "# 对于新加入的 embedding，比照现有类心，看这个 embedding 是否在某个类心的 eps 范围内，如果不在就建立新簇\n",
    "# for embed in test_embeddings:\n",
    "for embed in tqdm(test_embeddings, total=len(test_embeddings), desc=\"Processing embeddings\"):\n",
    "    # 现有类心\n",
    "    centroids = remove_duplicate(train_df['cluster_center'].tolist())\n",
    "    found_cluster = False\n",
    "    for centroid in centroids:\n",
    "        distance = cosine_distances([embed], [centroid])[0][0]\n",
    "        if distance <= eps:\n",
    "            found_cluster = True\n",
    "            my_centroid = centroid\n",
    "            break\n",
    "    if not found_cluster:\n",
    "        my_centroid = embed\n",
    "\n",
    "    cluster_id = next(gen)\n",
    "    new_row = {\n",
    "        'embeddings': embed,\n",
    "        'dbscan_id': None,\n",
    "        'cluster_id': cluster_id,\n",
    "        'cluster_center': my_centroid}\n",
    "    train_df = pd.concat([train_df, pd.DataFrame([new_row])], ignore_index=True)"
   ]
  },
  {
   "cell_type": "code",
   "execution_count": 15,
   "id": "3e51eac7-80bd-44be-9da5-84cee5e6fb3d",
   "metadata": {},
   "outputs": [
    {
     "data": {
      "text/html": [
       "<div>\n",
       "<style scoped>\n",
       "    .dataframe tbody tr th:only-of-type {\n",
       "        vertical-align: middle;\n",
       "    }\n",
       "\n",
       "    .dataframe tbody tr th {\n",
       "        vertical-align: top;\n",
       "    }\n",
       "\n",
       "    .dataframe thead th {\n",
       "        text-align: right;\n",
       "    }\n",
       "</style>\n",
       "<table border=\"1\" class=\"dataframe\">\n",
       "  <thead>\n",
       "    <tr style=\"text-align: right;\">\n",
       "      <th></th>\n",
       "      <th>embeddings</th>\n",
       "      <th>dbscan_id</th>\n",
       "      <th>cluster_id</th>\n",
       "      <th>cluster_center</th>\n",
       "    </tr>\n",
       "  </thead>\n",
       "  <tbody>\n",
       "    <tr>\n",
       "      <th>0</th>\n",
       "      <td>[0.024523582309484482, -0.03633105754852295, 0...</td>\n",
       "      <td>-1</td>\n",
       "      <td>148</td>\n",
       "      <td>[0.024523582309484482, -0.03633105754852295, 0...</td>\n",
       "    </tr>\n",
       "    <tr>\n",
       "      <th>1</th>\n",
       "      <td>[-0.002521098591387272, 0.022899063304066658, ...</td>\n",
       "      <td>0</td>\n",
       "      <td>0</td>\n",
       "      <td>[-0.00018301361706107855, 0.022485706851714186...</td>\n",
       "    </tr>\n",
       "    <tr>\n",
       "      <th>2</th>\n",
       "      <td>[0.008400454185903072, -0.012612388469278812, ...</td>\n",
       "      <td>-1</td>\n",
       "      <td>149</td>\n",
       "      <td>[0.008400454185903072, -0.012612388469278812, ...</td>\n",
       "    </tr>\n",
       "    <tr>\n",
       "      <th>3</th>\n",
       "      <td>[-0.004734962247312069, -0.0035224033053964376...</td>\n",
       "      <td>-1</td>\n",
       "      <td>150</td>\n",
       "      <td>[-0.004734962247312069, -0.0035224033053964376...</td>\n",
       "    </tr>\n",
       "    <tr>\n",
       "      <th>4</th>\n",
       "      <td>[-0.021240245550870895, -0.03918471559882164, ...</td>\n",
       "      <td>1</td>\n",
       "      <td>1</td>\n",
       "      <td>[-0.006647970941932206, -0.02852569787230875, ...</td>\n",
       "    </tr>\n",
       "    <tr>\n",
       "      <th>...</th>\n",
       "      <td>...</td>\n",
       "      <td>...</td>\n",
       "      <td>...</td>\n",
       "      <td>...</td>\n",
       "    </tr>\n",
       "    <tr>\n",
       "      <th>9995</th>\n",
       "      <td>[0.02526906132698059, 0.006334671750664711, 0....</td>\n",
       "      <td>None</td>\n",
       "      <td>8150</td>\n",
       "      <td>[0.02526906132698059, 0.006334671750664711, 0....</td>\n",
       "    </tr>\n",
       "    <tr>\n",
       "      <th>9996</th>\n",
       "      <td>[-0.0032427890691906214, 0.0032633657101541758...</td>\n",
       "      <td>None</td>\n",
       "      <td>8151</td>\n",
       "      <td>[-0.0032427890691906214, 0.0032633657101541758...</td>\n",
       "    </tr>\n",
       "    <tr>\n",
       "      <th>9997</th>\n",
       "      <td>[0.001930834841914475, -0.025012478232383728, ...</td>\n",
       "      <td>None</td>\n",
       "      <td>8152</td>\n",
       "      <td>[0.0057026533932800876, -0.018566691178293376,...</td>\n",
       "    </tr>\n",
       "    <tr>\n",
       "      <th>9998</th>\n",
       "      <td>[0.025050941854715347, -0.017404677346348763, ...</td>\n",
       "      <td>None</td>\n",
       "      <td>8153</td>\n",
       "      <td>[0.025493682051698368, -0.011526024201884866, ...</td>\n",
       "    </tr>\n",
       "    <tr>\n",
       "      <th>9999</th>\n",
       "      <td>[0.03423108905553818, 0.010332481935620308, -0...</td>\n",
       "      <td>None</td>\n",
       "      <td>8154</td>\n",
       "      <td>[0.03423108905553818, 0.010332481935620308, -0...</td>\n",
       "    </tr>\n",
       "  </tbody>\n",
       "</table>\n",
       "<p>10000 rows × 4 columns</p>\n",
       "</div>"
      ],
      "text/plain": [
       "                                             embeddings dbscan_id  cluster_id  \\\n",
       "0     [0.024523582309484482, -0.03633105754852295, 0...        -1         148   \n",
       "1     [-0.002521098591387272, 0.022899063304066658, ...         0           0   \n",
       "2     [0.008400454185903072, -0.012612388469278812, ...        -1         149   \n",
       "3     [-0.004734962247312069, -0.0035224033053964376...        -1         150   \n",
       "4     [-0.021240245550870895, -0.03918471559882164, ...         1           1   \n",
       "...                                                 ...       ...         ...   \n",
       "9995  [0.02526906132698059, 0.006334671750664711, 0....      None        8150   \n",
       "9996  [-0.0032427890691906214, 0.0032633657101541758...      None        8151   \n",
       "9997  [0.001930834841914475, -0.025012478232383728, ...      None        8152   \n",
       "9998  [0.025050941854715347, -0.017404677346348763, ...      None        8153   \n",
       "9999  [0.03423108905553818, 0.010332481935620308, -0...      None        8154   \n",
       "\n",
       "                                         cluster_center  \n",
       "0     [0.024523582309484482, -0.03633105754852295, 0...  \n",
       "1     [-0.00018301361706107855, 0.022485706851714186...  \n",
       "2     [0.008400454185903072, -0.012612388469278812, ...  \n",
       "3     [-0.004734962247312069, -0.0035224033053964376...  \n",
       "4     [-0.006647970941932206, -0.02852569787230875, ...  \n",
       "...                                                 ...  \n",
       "9995  [0.02526906132698059, 0.006334671750664711, 0....  \n",
       "9996  [-0.0032427890691906214, 0.0032633657101541758...  \n",
       "9997  [0.0057026533932800876, -0.018566691178293376,...  \n",
       "9998  [0.025493682051698368, -0.011526024201884866, ...  \n",
       "9999  [0.03423108905553818, 0.010332481935620308, -0...  \n",
       "\n",
       "[10000 rows x 4 columns]"
      ]
     },
     "execution_count": 15,
     "metadata": {},
     "output_type": "execute_result"
    }
   ],
   "source": [
    "train_df"
   ]
  },
  {
   "cell_type": "code",
   "execution_count": null,
   "id": "59b11973-80e2-431d-9907-69808e6324ab",
   "metadata": {},
   "outputs": [],
   "source": []
  }
 ],
 "metadata": {
  "kernelspec": {
   "display_name": "Python (vllm_env)",
   "language": "python",
   "name": "vllm_env"
  },
  "language_info": {
   "codemirror_mode": {
    "name": "ipython",
    "version": 3
   },
   "file_extension": ".py",
   "mimetype": "text/x-python",
   "name": "python",
   "nbconvert_exporter": "python",
   "pygments_lexer": "ipython3",
   "version": "3.9.21"
  }
 },
 "nbformat": 4,
 "nbformat_minor": 5
}
